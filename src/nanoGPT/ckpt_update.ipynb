{
 "cells": [
  {
   "cell_type": "code",
   "execution_count": 1,
   "metadata": {},
   "outputs": [],
   "source": [
    "import torch\n",
    "from model import GPT, GPTConfig"
   ]
  },
  {
   "cell_type": "markdown",
   "metadata": {},
   "source": [
    "Since I changed the model structure to add relative PEs, this affected pt files that were saved before the update.\n",
    "To avoid errors, I add this codes for updating those pt files."
   ]
  },
  {
   "cell_type": "code",
   "execution_count": 2,
   "metadata": {},
   "outputs": [],
   "source": [
    "def update_checkpoint(checkpoint, model):\n",
    "    \"\"\"Update the checkpoint to match the new model structure.\"\"\"\n",
    "    state_dict = checkpoint['model']\n",
    "\n",
    "    # Add `relative_embeddings` if missing\n",
    "    rel_emb_key = \"transformer.relative.relative_embeddings.weight\"\n",
    "    if rel_emb_key not in state_dict:\n",
    "        print(f\"Adding {rel_emb_key} to checkpoint.\")\n",
    "        state_dict[rel_emb_key] = torch.zeros_like(\n",
    "            model.transformer.relative.relative_embeddings.weight\n",
    "        )\n",
    "\n",
    "    # Return updated checkpoint\n",
    "    checkpoint['model'] = state_dict\n",
    "    return checkpoint"
   ]
  },
  {
   "cell_type": "code",
   "execution_count": 4,
   "metadata": {},
   "outputs": [
    {
     "name": "stderr",
     "output_type": "stream",
     "text": [
      "/var/folders/x_/_c31ym8j7t1c136g4ybx2x8m0000gn/T/ipykernel_42651/3650523866.py:2: FutureWarning: You are using `torch.load` with `weights_only=False` (the current default value), which uses the default pickle module implicitly. It is possible to construct malicious pickle data which will execute arbitrary code during unpickling (See https://github.com/pytorch/pytorch/blob/main/SECURITY.md#untrusted-models for more details). In a future release, the default value for `weights_only` will be flipped to `True`. This limits the functions that could be executed during unpickling. Arbitrary objects will no longer be allowed to be loaded via this mode unless they are explicitly allowlisted by the user via `torch.serialization.add_safe_globals`. We recommend you start setting `weights_only=True` for any use case where you don't have full control of the loaded file. Please open an issue on GitHub for any issues related to this experimental feature.\n",
      "  checkpoint = torch.load(ckpt_path)\n"
     ]
    },
    {
     "name": "stdout",
     "output_type": "stream",
     "text": [
      "number of parameters: 3.45M\n",
      "Adding transformer.relative.relative_embeddings.weight to checkpoint.\n",
      "Updated checkpoint saved to: updated_checkpoint.pt\n"
     ]
    }
   ],
   "source": [
    "ckpt_path = \"ckpt copy.pt\" # which pt you want to update?\n",
    "checkpoint = torch.load(ckpt_path)\n",
    "model = GPT(GPTConfig(**checkpoint['model_args']))\n",
    "updated_checkpoint = update_checkpoint(checkpoint, model)\n",
    "updated_ckpt_path = \"updated_checkpoint.pt\"\n",
    "torch.save(updated_checkpoint, updated_ckpt_path)\n",
    "print(f\"Updated checkpoint saved to: {updated_ckpt_path}\")\n"
   ]
  },
  {
   "cell_type": "code",
   "execution_count": null,
   "metadata": {},
   "outputs": [],
   "source": []
  }
 ],
 "metadata": {
  "kernelspec": {
   "display_name": "ml_syj",
   "language": "python",
   "name": "python3"
  },
  "language_info": {
   "codemirror_mode": {
    "name": "ipython",
    "version": 3
   },
   "file_extension": ".py",
   "mimetype": "text/x-python",
   "name": "python",
   "nbconvert_exporter": "python",
   "pygments_lexer": "ipython3",
   "version": "3.11.10"
  }
 },
 "nbformat": 4,
 "nbformat_minor": 2
}
