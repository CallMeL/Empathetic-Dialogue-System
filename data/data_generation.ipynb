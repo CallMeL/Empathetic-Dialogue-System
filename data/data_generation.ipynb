{
 "cells": [
  {
   "cell_type": "markdown",
   "metadata": {},
   "source": [
    "1. Call open-ai api"
   ]
  },
  {
   "cell_type": "code",
   "execution_count": 8,
   "metadata": {},
   "outputs": [],
   "source": [
    "import os\n",
    "import openai"
   ]
  },
  {
   "cell_type": "code",
   "execution_count": null,
   "metadata": {},
   "outputs": [],
   "source": [
    "OPENAI_API_KEY = ''\n",
    "openai.api_key = OPENAI_API_KEY\n",
    "\n",
    "# make py file to save api key and add it in gitignore would be better :)"
   ]
  },
  {
   "cell_type": "code",
   "execution_count": 20,
   "metadata": {},
   "outputs": [],
   "source": [
    "def call_chatgpt(prompt):\n",
    "    try:\n",
    "        response = openai.chat.completions.create(\n",
    "            model=\"gpt-4o-mini\",  \n",
    "            messages=[\n",
    "                {\"role\": \"system\", \"content\": \"You are a helpful assistant.\"},\n",
    "                {\"role\": \"user\", \"content\": prompt}\n",
    "            ],\n",
    "            temperature=0.7,  \n",
    "            max_tokens=300   \n",
    "        )\n",
    "        return response['choices'][0]['message']['content']\n",
    "    except Exception as e:\n",
    "        return f\"Error: {e}\""
   ]
  },
  {
   "cell_type": "code",
   "execution_count": 21,
   "metadata": {},
   "outputs": [
    {
     "name": "stdout",
     "output_type": "stream",
     "text": [
      "Response:\n",
      "Error: Error code: 429 - {'error': {'message': 'You exceeded your current quota, please check your plan and billing details. For more information on this error, read the docs: https://platform.openai.com/docs/guides/error-codes/api-errors.', 'type': 'insufficient_quota', 'param': None, 'code': 'insufficient_quota'}}\n"
     ]
    }
   ],
   "source": [
    "user_prompt = \"It's my birthday, and no one remembered to celebrate. comfort me please\"\n",
    "response = call_chatgpt(user_prompt)\n",
    "print(\"Response:\")\n",
    "print(response)"
   ]
  },
  {
   "cell_type": "markdown",
   "metadata": {},
   "source": [
    "2. Check another api "
   ]
  },
  {
   "cell_type": "code",
   "execution_count": 27,
   "metadata": {},
   "outputs": [],
   "source": [
    "from transformers import AutoModelForCausalLM, AutoTokenizer\n",
    "\n",
    "model_name = \"microsoft/DialoGPT-medium\"\n",
    "tokenizer = AutoTokenizer.from_pretrained(model_name)\n",
    "model = AutoModelForCausalLM.from_pretrained(model_name)\n",
    "\n",
    "if tokenizer.pad_token_id is None:\n",
    "    tokenizer.pad_token_id = tokenizer.eos_token_id"
   ]
  },
  {
   "cell_type": "code",
   "execution_count": 26,
   "metadata": {},
   "outputs": [],
   "source": [
    "def gen_text(input):\n",
    "\n",
    "  input_text = input\n",
    "  inputs = tokenizer.encode(input_text, return_tensors=\"pt\")\n",
    "\n",
    "\n",
    "  attention_mask = inputs.ne(tokenizer.pad_token_id).int()  \n",
    "\n",
    "  response_ids = model.generate(\n",
    "      inputs,\n",
    "      attention_mask=attention_mask,\n",
    "      max_length=50,\n",
    "      num_return_sequences=1,\n",
    "      pad_token_id=tokenizer.pad_token_id  \n",
    "  )\n",
    "  response = tokenizer.decode(response_ids[0], skip_special_tokens=True)\n",
    "\n",
    "\n",
    "  print(response)"
   ]
  },
  {
   "cell_type": "code",
   "execution_count": 28,
   "metadata": {},
   "outputs": [
    {
     "name": "stdout",
     "output_type": "stream",
     "text": [
      "It's my birthday, and no one remembered to celebrate. comfort me please\n"
     ]
    }
   ],
   "source": [
    "gen_text(\"It's my birthday, and no one remembered to celebrate. comfort me please\")"
   ]
  },
  {
   "cell_type": "code",
   "execution_count": 29,
   "metadata": {},
   "outputs": [
    {
     "name": "stdout",
     "output_type": "stream",
     "text": [
      "I am so sad today because I feel like I'm stuck in life.I am so happy to be alive.\n"
     ]
    }
   ],
   "source": [
    "gen_text(\"I am so sad today because I feel like I'm stuck in life.\")"
   ]
  }
 ],
 "metadata": {
  "kernelspec": {
   "display_name": "ml_syj",
   "language": "python",
   "name": "python3"
  },
  "language_info": {
   "codemirror_mode": {
    "name": "ipython",
    "version": 3
   },
   "file_extension": ".py",
   "mimetype": "text/x-python",
   "name": "python",
   "nbconvert_exporter": "python",
   "pygments_lexer": "ipython3",
   "version": "3.11.10"
  }
 },
 "nbformat": 4,
 "nbformat_minor": 2
}
